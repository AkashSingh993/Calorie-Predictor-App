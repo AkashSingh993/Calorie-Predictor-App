{
 "cells": [
  {
   "cell_type": "code",
   "execution_count": 3,
   "id": "58c22d09",
   "metadata": {},
   "outputs": [
    {
     "name": "stdout",
     "output_type": "stream",
     "text": [
      "Train RMSLE: 0.06598, Train R²: 0.99664\n",
      "Test RMSLE: 0.06731, Test R²: 0.99641\n",
      "✅ Model pipeline saved as 'calorie_predictor_pipeline.pkl'\n"
     ]
    }
   ],
   "source": [
    "import pandas as pd\n",
    "import numpy as np\n",
    "from sklearn.model_selection import train_test_split\n",
    "from sklearn.preprocessing import StandardScaler, OneHotEncoder\n",
    "from sklearn.compose import ColumnTransformer\n",
    "from sklearn.pipeline import Pipeline\n",
    "from xgboost import XGBRegressor\n",
    "from sklearn.metrics import mean_squared_log_error, r2_score\n",
    "import joblib\n",
    "\n",
    "# 1. Load Dataset\n",
    "df = pd.read_csv(\"D:\\\\Calorie_Predicitor_Project\\\\dataset\\\\train (1).csv\")\n",
    "\n",
    "# 2. Define Features and Target\n",
    "X = df.drop(['Calories', 'id'], axis=1)\n",
    "y = df['Calories']\n",
    "\n",
    "# 3. Define Feature Types\n",
    "categorical_features = ['Sex']\n",
    "numerical_features = ['Age', 'Height', 'Weight', 'Duration', 'Heart_Rate', 'Body_Temp']\n",
    "\n",
    "# 4. Preprocessing Pipeline\n",
    "preprocessor = ColumnTransformer(\n",
    "    transformers=[\n",
    "        ('num', StandardScaler(), numerical_features),\n",
    "        ('cat', OneHotEncoder(), categorical_features)\n",
    "    ])\n",
    "\n",
    "# 5. Complete Pipeline with XGBoost\n",
    "pipeline = Pipeline(steps=[\n",
    "    ('preprocessor', preprocessor),\n",
    "    ('regressor', XGBRegressor(max_depth=4, n_estimators=400, learning_rate=0.1, random_state=42))\n",
    "])\n",
    "\n",
    "# 6. Train-Test Split\n",
    "X_train, X_test, y_train, y_test = train_test_split(X, y, test_size=0.2, random_state=42)\n",
    "\n",
    "# 7. Train the Pipeline\n",
    "pipeline.fit(X_train, y_train)\n",
    "\n",
    "# 8. Predictions\n",
    "y_train_pred = pipeline.predict(X_train)\n",
    "y_test_pred = pipeline.predict(X_test)\n",
    "\n",
    "# 9. Clip predictions to avoid log error\n",
    "y_train_pred = np.maximum(0, y_train_pred)\n",
    "y_test_pred = np.maximum(0, y_test_pred)\n",
    "\n",
    "# 10. Evaluate the model\n",
    "rmsle_train = np.sqrt(mean_squared_log_error(y_train, y_train_pred))\n",
    "r2_train = r2_score(y_train, y_train_pred)\n",
    "\n",
    "rmsle_test = np.sqrt(mean_squared_log_error(y_test, y_test_pred))\n",
    "r2_test = r2_score(y_test, y_test_pred)\n",
    "\n",
    "print(f\"Train RMSLE: {rmsle_train:.5f}, Train R²: {r2_train:.5f}\")\n",
    "print(f\"Test RMSLE: {rmsle_test:.5f}, Test R²: {r2_test:.5f}\")\n",
    "\n",
    "# 11. Save the pipeline for deployment\n",
    "joblib.dump(pipeline, 'calorie_predictor_pipeline.pkl')\n",
    "print(\"✅ Model pipeline saved as 'calorie_predictor_pipeline.pkl'\")\n"
   ]
  },
  {
   "cell_type": "code",
   "execution_count": null,
   "id": "b8710783",
   "metadata": {},
   "outputs": [],
   "source": []
  }
 ],
 "metadata": {
  "kernelspec": {
   "display_name": ".conda",
   "language": "python",
   "name": "python3"
  },
  "language_info": {
   "codemirror_mode": {
    "name": "ipython",
    "version": 3
   },
   "file_extension": ".py",
   "mimetype": "text/x-python",
   "name": "python",
   "nbconvert_exporter": "python",
   "pygments_lexer": "ipython3",
   "version": "3.12.11"
  }
 },
 "nbformat": 4,
 "nbformat_minor": 5
}
